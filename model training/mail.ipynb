{
 "cells": [
  {
   "cell_type": "code",
   "execution_count": 11,
   "metadata": {},
   "outputs": [],
   "source": [
    "import pandas as pd\n",
    "from sklearn.model_selection import train_test_split\n",
    "from sklearn.feature_extraction.text import CountVectorizer\n",
    "from sklearn.naive_bayes import MultinomialNB\n",
    "from sklearn.metrics import accuracy_score, classification_report\n",
    "import numpy as np\n",
    "import tensorflow as tf\n",
    "from sklearn.metrics import confusion_matrix\n",
    "from sklearn.model_selection import train_test_split, GridSearchCV\n",
    "from sklearn.metrics import classification_report\n",
    "from keras.models import Sequential\n",
    "from keras.layers import Dense, Embedding, GlobalAveragePooling1D\n",
    "from keras.preprocessing.text import Tokenizer\n",
    "from tensorflow.keras.preprocessing.sequence import pad_sequences\n",
    "from keras.wrappers.scikit_learn import KerasClassifier\n"
   ]
  },
  {
   "cell_type": "code",
   "execution_count": 13,
   "metadata": {},
   "outputs": [],
   "source": [
    "data = pd.read_csv(\"..\\dataset\\\\spam_ham_dataset.csv\")\n",
    "\n",
    "X = data['text']\n",
    "y = data['label_num']\n",
    "X_train, X_test, y_train, y_test = train_test_split(X, y, test_size=0.2, random_state=42)"
   ]
  },
  {
   "cell_type": "code",
   "execution_count": 14,
   "metadata": {},
   "outputs": [],
   "source": [
    "tokenizer = Tokenizer()\n",
    "tokenizer.fit_on_texts(X_train)\n",
    "X_train_seq = tokenizer.texts_to_sequences(X_train)\n",
    "X_test_seq = tokenizer.texts_to_sequences(X_test)\n",
    "\n",
    "max_seq_length = max([len(seq) for seq in X_train_seq])\n",
    "X_train_pad = pad_sequences(X_train_seq, maxlen=max_seq_length, padding='post')\n",
    "X_test_pad = pad_sequences(X_test_seq, maxlen=max_seq_length, padding='post')"
   ]
  },
  {
   "cell_type": "code",
   "execution_count": 17,
   "metadata": {},
   "outputs": [
    {
     "name": "stdout",
     "output_type": "stream",
     "text": [
      "Epoch 1/20\n",
      "259/259 [==============================] - 27s 102ms/step - loss: 0.6062 - accuracy: 0.7084 - val_loss: 0.5915 - val_accuracy: 0.7169\n",
      "Epoch 2/20\n",
      "259/259 [==============================] - 28s 108ms/step - loss: 0.5900 - accuracy: 0.7087 - val_loss: 0.5653 - val_accuracy: 0.7169\n",
      "Epoch 3/20\n",
      "259/259 [==============================] - 28s 106ms/step - loss: 0.5135 - accuracy: 0.7309 - val_loss: 0.4186 - val_accuracy: 0.7536\n",
      "Epoch 4/20\n",
      "259/259 [==============================] - 26s 99ms/step - loss: 0.3493 - accuracy: 0.8530 - val_loss: 0.3034 - val_accuracy: 0.8029\n",
      "Epoch 5/20\n",
      "259/259 [==============================] - 26s 100ms/step - loss: 0.2198 - accuracy: 0.9408 - val_loss: 0.1973 - val_accuracy: 0.9063\n",
      "Epoch 6/20\n",
      "259/259 [==============================] - 25s 98ms/step - loss: 0.1600 - accuracy: 0.9529 - val_loss: 0.1383 - val_accuracy: 0.9807\n",
      "Epoch 7/20\n",
      "259/259 [==============================] - 26s 100ms/step - loss: 0.1158 - accuracy: 0.9756 - val_loss: 0.1568 - val_accuracy: 0.9372\n",
      "Epoch 8/20\n",
      "259/259 [==============================] - 25s 96ms/step - loss: 0.0949 - accuracy: 0.9751 - val_loss: 0.1006 - val_accuracy: 0.9729\n",
      "Epoch 9/20\n",
      "259/259 [==============================] - 25s 95ms/step - loss: 0.0834 - accuracy: 0.9739 - val_loss: 0.0844 - val_accuracy: 0.9787\n",
      "Epoch 10/20\n",
      "259/259 [==============================] - 25s 95ms/step - loss: 0.0655 - accuracy: 0.9821 - val_loss: 0.0761 - val_accuracy: 0.9816\n",
      "Epoch 11/20\n",
      "259/259 [==============================] - 25s 95ms/step - loss: 0.0562 - accuracy: 0.9850 - val_loss: 0.0698 - val_accuracy: 0.9778\n",
      "Epoch 12/20\n",
      "259/259 [==============================] - 25s 95ms/step - loss: 0.0519 - accuracy: 0.9840 - val_loss: 0.0673 - val_accuracy: 0.9768\n",
      "Epoch 13/20\n",
      "259/259 [==============================] - 25s 96ms/step - loss: 0.0438 - accuracy: 0.9884 - val_loss: 0.0756 - val_accuracy: 0.9700\n",
      "Epoch 14/20\n",
      "259/259 [==============================] - 25s 95ms/step - loss: 0.0423 - accuracy: 0.9869 - val_loss: 0.0611 - val_accuracy: 0.9768\n",
      "Epoch 15/20\n",
      "259/259 [==============================] - 25s 96ms/step - loss: 0.0373 - accuracy: 0.9896 - val_loss: 0.0935 - val_accuracy: 0.9546\n",
      "Epoch 16/20\n",
      "259/259 [==============================] - 25s 95ms/step - loss: 0.0364 - accuracy: 0.9898 - val_loss: 0.0714 - val_accuracy: 0.9739\n",
      "Epoch 17/20\n",
      "259/259 [==============================] - 25s 97ms/step - loss: 0.0322 - accuracy: 0.9898 - val_loss: 0.0573 - val_accuracy: 0.9797\n",
      "Epoch 18/20\n",
      "259/259 [==============================] - 26s 99ms/step - loss: 0.0303 - accuracy: 0.9906 - val_loss: 0.0624 - val_accuracy: 0.9836\n",
      "Epoch 19/20\n",
      "259/259 [==============================] - 25s 95ms/step - loss: 0.0321 - accuracy: 0.9884 - val_loss: 0.0637 - val_accuracy: 0.9749\n",
      "Epoch 20/20\n",
      "259/259 [==============================] - 25s 95ms/step - loss: 0.0272 - accuracy: 0.9908 - val_loss: 0.0567 - val_accuracy: 0.9797\n"
     ]
    },
    {
     "data": {
      "text/plain": [
       "<keras.callbacks.History at 0x177c8546eb0>"
      ]
     },
     "execution_count": 17,
     "metadata": {},
     "output_type": "execute_result"
    }
   ],
   "source": [
    "model = Sequential()\n",
    "model.add(Embedding(input_dim=len(tokenizer.word_index)+1, output_dim=64, input_length=max_seq_length))\n",
    "model.add(GlobalAveragePooling1D())\n",
    "model.add(Dense(128, activation='relu'))\n",
    "model.add(Dense(1, activation='sigmoid'))\n",
    "model.compile(loss='binary_crossentropy', optimizer='adam', metrics=['accuracy'])\n",
    "\n",
    "callback = tf.keras.callbacks.EarlyStopping(\n",
    "    monitor='loss', \n",
    "    patience=3\n",
    ")\n",
    "model.fit(X_train_pad, y_train, validation_data=(X_test_pad, y_test), epochs=20, batch_size=16, callbacks=[callback])"
   ]
  },
  {
   "cell_type": "code",
   "execution_count": 18,
   "metadata": {},
   "outputs": [
    {
     "name": "stdout",
     "output_type": "stream",
     "text": [
      "33/33 [==============================] - 1s 27ms/step - loss: 0.0567 - accuracy: 0.9797\n",
      "loss : 0.05668860673904419\n",
      "accuracy : 0.9797101616859436\n"
     ]
    }
   ],
   "source": [
    "loss, accuracy = model.evaluate(X_test_pad, y_test)\n",
    "print(f\"loss : {loss}\")\n",
    "print(f\"accuracy : {accuracy}\")"
   ]
  },
  {
   "cell_type": "code",
   "execution_count": 19,
   "metadata": {},
   "outputs": [
    {
     "name": "stdout",
     "output_type": "stream",
     "text": [
      "33/33 [==============================] - 4s 27ms/step\n",
      "Matrice de confusion:\n",
      "[[724  18]\n",
      " [  3 290]]\n",
      "True Positives (TP) : 290\n",
      "False Positives (TN) : 724\n"
     ]
    }
   ],
   "source": [
    "y_pred_prob = model.predict(X_test_pad)\n",
    "y_pred = np.round(y_pred_prob).astype(int)\n",
    "conf_matrix = confusion_matrix(y_test, y_pred)\n",
    "tn, fp, fn, tp = conf_matrix.ravel()\n",
    "\n",
    "print(\"confusion matrix:\")\n",
    "print(conf_matrix)\n",
    "print(\"True Positives (TP) :\", tp)\n",
    "print(\"False Positives (TN) :\", tn)"
   ]
  }
 ],
 "metadata": {
  "kernelspec": {
   "display_name": "base",
   "language": "python",
   "name": "python3"
  },
  "language_info": {
   "codemirror_mode": {
    "name": "ipython",
    "version": 3
   },
   "file_extension": ".py",
   "mimetype": "text/x-python",
   "name": "python",
   "nbconvert_exporter": "python",
   "pygments_lexer": "ipython3",
   "version": "3.9.13"
  },
  "orig_nbformat": 4
 },
 "nbformat": 4,
 "nbformat_minor": 2
}
