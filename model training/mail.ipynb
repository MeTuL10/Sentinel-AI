{
 "cells": [
  {
   "cell_type": "code",
   "execution_count": 48,
   "metadata": {},
   "outputs": [],
   "source": [
    "import pandas as pd\n",
    "from sklearn.model_selection import train_test_split\n",
    "import numpy as np\n",
    "import tensorflow as tf\n",
    "from sklearn.metrics import confusion_matrix\n",
    "from sklearn.model_selection import train_test_split, GridSearchCV\n",
    "from sklearn.metrics import classification_report\n",
    "from keras.models import Sequential\n",
    "from keras.layers import Dense, Embedding, GlobalAveragePooling1D\n",
    "from keras.preprocessing.text import Tokenizer\n",
    "from tensorflow.keras.preprocessing.sequence import pad_sequences\n",
    "from keras.wrappers.scikit_learn import KerasClassifier\n"
   ]
  },
  {
   "cell_type": "code",
   "execution_count": 49,
   "metadata": {},
   "outputs": [],
   "source": [
    "data = pd.read_csv(\"..\\dataset\\\\spam_ham_dataset.csv\")\n",
    "X = data['text']\n",
    "y = data['label_num']\n",
    "X_train, X_test, y_train, y_test = train_test_split(X, y, test_size=0.2, random_state=42)"
   ]
  },
  {
   "cell_type": "code",
   "execution_count": 50,
   "metadata": {},
   "outputs": [],
   "source": [
    "tokenizer = Tokenizer()\n",
    "tokenizer.fit_on_texts(X_train)\n",
    "X_train_seq = tokenizer.texts_to_sequences(X_train)\n",
    "X_test_seq = tokenizer.texts_to_sequences(X_test)\n",
    "\n",
    "max_seq_length = max([len(seq) for seq in X_train_seq])\n",
    "X_train_pad = pad_sequences(X_train_seq, maxlen=max_seq_length, padding='post')\n",
    "X_test_pad = pad_sequences(X_test_seq, maxlen=max_seq_length, padding='post')"
   ]
  },
  {
   "cell_type": "code",
   "execution_count": 51,
   "metadata": {},
   "outputs": [
    {
     "name": "stdout",
     "output_type": "stream",
     "text": [
      "5916\n"
     ]
    }
   ],
   "source": [
    "print(max_seq_length)"
   ]
  },
  {
   "cell_type": "code",
   "execution_count": 52,
   "metadata": {},
   "outputs": [
    {
     "name": "stdout",
     "output_type": "stream",
     "text": [
      "Epoch 1/20\n",
      "259/259 [==============================] - 32s 116ms/step - loss: 0.6077 - accuracy: 0.7045 - val_loss: 0.5916 - val_accuracy: 0.7169\n",
      "Epoch 2/20\n",
      "259/259 [==============================] - 28s 108ms/step - loss: 0.5927 - accuracy: 0.7084 - val_loss: 0.5716 - val_accuracy: 0.7169\n",
      "Epoch 3/20\n",
      "259/259 [==============================] - 28s 107ms/step - loss: 0.5352 - accuracy: 0.7244 - val_loss: 0.4667 - val_accuracy: 0.8300\n",
      "Epoch 4/20\n",
      "259/259 [==============================] - 29s 110ms/step - loss: 0.3788 - accuracy: 0.8308 - val_loss: 0.3043 - val_accuracy: 0.9556\n",
      "Epoch 5/20\n",
      "259/259 [==============================] - 29s 111ms/step - loss: 0.2574 - accuracy: 0.9110 - val_loss: 0.2246 - val_accuracy: 0.8870\n",
      "Epoch 6/20\n",
      "259/259 [==============================] - 29s 112ms/step - loss: 0.1847 - accuracy: 0.9502 - val_loss: 0.1581 - val_accuracy: 0.9816\n",
      "Epoch 7/20\n",
      "259/259 [==============================] - 29s 111ms/step - loss: 0.1344 - accuracy: 0.9700 - val_loss: 0.1300 - val_accuracy: 0.9623\n",
      "Epoch 8/20\n",
      "259/259 [==============================] - 28s 107ms/step - loss: 0.1049 - accuracy: 0.9758 - val_loss: 0.1212 - val_accuracy: 0.9527\n",
      "Epoch 9/20\n",
      "259/259 [==============================] - 28s 107ms/step - loss: 0.0857 - accuracy: 0.9794 - val_loss: 0.0912 - val_accuracy: 0.9778\n",
      "Epoch 10/20\n",
      "259/259 [==============================] - 28s 107ms/step - loss: 0.0741 - accuracy: 0.9814 - val_loss: 0.0863 - val_accuracy: 0.9691\n",
      "Epoch 11/20\n",
      "259/259 [==============================] - 29s 113ms/step - loss: 0.0623 - accuracy: 0.9833 - val_loss: 0.0820 - val_accuracy: 0.9681\n",
      "Epoch 12/20\n",
      "259/259 [==============================] - 28s 108ms/step - loss: 0.0570 - accuracy: 0.9816 - val_loss: 0.1146 - val_accuracy: 0.9372\n",
      "Epoch 13/20\n",
      "259/259 [==============================] - 28s 108ms/step - loss: 0.0523 - accuracy: 0.9828 - val_loss: 0.0772 - val_accuracy: 0.9729\n",
      "Epoch 14/20\n",
      "259/259 [==============================] - 28s 109ms/step - loss: 0.0485 - accuracy: 0.9850 - val_loss: 0.0668 - val_accuracy: 0.9855\n",
      "Epoch 15/20\n",
      "259/259 [==============================] - 28s 108ms/step - loss: 0.0387 - accuracy: 0.9898 - val_loss: 0.0965 - val_accuracy: 0.9536\n",
      "Epoch 16/20\n",
      "259/259 [==============================] - 28s 109ms/step - loss: 0.0368 - accuracy: 0.9889 - val_loss: 0.0582 - val_accuracy: 0.9845\n",
      "Epoch 17/20\n",
      "259/259 [==============================] - 28s 107ms/step - loss: 0.0404 - accuracy: 0.9853 - val_loss: 0.0695 - val_accuracy: 0.9797\n",
      "Epoch 18/20\n",
      "259/259 [==============================] - 28s 107ms/step - loss: 0.0381 - accuracy: 0.9857 - val_loss: 0.0560 - val_accuracy: 0.9845\n",
      "Epoch 19/20\n",
      "259/259 [==============================] - 28s 107ms/step - loss: 0.0312 - accuracy: 0.9896 - val_loss: 0.1323 - val_accuracy: 0.9343\n",
      "Epoch 20/20\n",
      "259/259 [==============================] - 28s 107ms/step - loss: 0.0342 - accuracy: 0.9869 - val_loss: 0.1057 - val_accuracy: 0.9498\n"
     ]
    },
    {
     "data": {
      "text/plain": [
       "<keras.callbacks.History at 0x1eca7492b50>"
      ]
     },
     "execution_count": 52,
     "metadata": {},
     "output_type": "execute_result"
    }
   ],
   "source": [
    "model = Sequential()\n",
    "model.add(Embedding(input_dim=len(tokenizer.word_index)+1, output_dim=64, input_length=max_seq_length))\n",
    "model.add(GlobalAveragePooling1D())\n",
    "model.add(Dense(128, activation='relu'))\n",
    "model.add(Dense(1, activation='sigmoid'))\n",
    "model.compile(loss='binary_crossentropy', optimizer='adam', metrics=['accuracy'])\n",
    "model.fit(X_train_pad, y_train, validation_data=(X_test_pad, y_test), epochs=20, batch_size=16)"
   ]
  },
  {
   "cell_type": "code",
   "execution_count": 53,
   "metadata": {},
   "outputs": [
    {
     "name": "stdout",
     "output_type": "stream",
     "text": [
      "33/33 [==============================] - 1s 28ms/step - loss: 0.1057 - accuracy: 0.9498\n"
     ]
    },
    {
     "data": {
      "text/plain": [
       "[0.10572800040245056, 0.9497584700584412]"
      ]
     },
     "execution_count": 53,
     "metadata": {},
     "output_type": "execute_result"
    }
   ],
   "source": [
    "model.evaluate(X_test_pad, y_test)"
   ]
  },
  {
   "cell_type": "code",
   "execution_count": 54,
   "metadata": {},
   "outputs": [
    {
     "name": "stdout",
     "output_type": "stream",
     "text": [
      "33/33 [==============================] - 1s 28ms/step\n",
      "confusion matrix:\n",
      "[[740   2]\n",
      " [ 50 243]]\n",
      "True Positives (TP) : 243\n",
      "False Positives (TN) : 740\n"
     ]
    }
   ],
   "source": [
    "y_pred_prob = model.predict(X_test_pad)\n",
    "y_pred = np.round(y_pred_prob).astype(int)\n",
    "conf_matrix = confusion_matrix(y_test, y_pred)\n",
    "tn, fp, fn, tp = conf_matrix.ravel()\n",
    "\n",
    "print(\"confusion matrix:\")\n",
    "print(conf_matrix)\n",
    "print(\"True Positives (TP) :\", tp)\n",
    "print(\"False Positives (TN) :\", tn)"
   ]
  },
  {
   "cell_type": "code",
   "execution_count": 55,
   "metadata": {},
   "outputs": [],
   "source": [
    "model.save(\"..\\\\models\\\\mail.keras\")"
   ]
  },
  {
   "cell_type": "code",
   "execution_count": 62,
   "metadata": {},
   "outputs": [],
   "source": [
    "import pickle\n",
    "\n",
    "# saving tokenizer\n",
    "with open('..\\\\models\\\\mailtoken.pickle', 'wb') as handle:\n",
    "    pickle.dump(tokenizer, handle, protocol=pickle.HIGHEST_PROTOCOL)\n"
   ]
  },
  {
   "cell_type": "code",
   "execution_count": 63,
   "metadata": {},
   "outputs": [],
   "source": [
    "with open('..\\\\models\\\\mailtoken.pickle', 'rb') as handle:\n",
    "    t = pickle.load(handle)"
   ]
  },
  {
   "cell_type": "code",
   "execution_count": 64,
   "metadata": {},
   "outputs": [],
   "source": [
    "X_test_seq = t.texts_to_sequences(X_test)\n",
    "maxlen1=5916\n",
    "X_test_pad = pad_sequences(X_test_seq, maxlen=maxlen1, padding='post')"
   ]
  },
  {
   "cell_type": "code",
   "execution_count": 65,
   "metadata": {},
   "outputs": [
    {
     "name": "stdout",
     "output_type": "stream",
     "text": [
      "33/33 [==============================] - 1s 27ms/step - loss: 0.1057 - accuracy: 0.9498\n",
      "33/33 [==============================] - 1s 32ms/step\n"
     ]
    },
    {
     "data": {
      "text/plain": [
       "array([[5.5028366e-05],\n",
       "       [1.0000000e+00],\n",
       "       [4.4215403e-07],\n",
       "       ...,\n",
       "       [9.9547392e-01],\n",
       "       [1.3544263e-01],\n",
       "       [1.1087752e-05]], dtype=float32)"
      ]
     },
     "execution_count": 65,
     "metadata": {},
     "output_type": "execute_result"
    }
   ],
   "source": [
    "from keras.models import load_model\n",
    "model1 = load_model(\"..\\\\models\\\\mail.keras\")\n",
    "model1.evaluate(X_test_pad, y_test)\n",
    "model1.predict(X_test_pad)"
   ]
  },
  {
   "cell_type": "code",
   "execution_count": 66,
   "metadata": {},
   "outputs": [
    {
     "name": "stdout",
     "output_type": "stream",
     "text": [
      "1/1 [==============================] - 0s 28ms/step\n"
     ]
    },
    {
     "data": {
      "text/plain": [
       "array([[0.397237  ],\n",
       "       [0.32604584]], dtype=float32)"
      ]
     },
     "execution_count": 66,
     "metadata": {},
     "output_type": "execute_result"
    }
   ],
   "source": [
    "text=[\"hello this is a text for guyfiyudyx testing your power\",\"time to die\"]\n",
    "df1=pd.DataFrame(text,columns=[\"text\"])\n",
    "x=df1[\"text\"]\n",
    "X_test_seq = t.texts_to_sequences(x)\n",
    "maxlen1=5916\n",
    "X_test_pad = pad_sequences(X_test_seq, maxlen=maxlen1, padding='post')\n",
    "model1.predict(X_test_pad)"
   ]
  }
 ],
 "metadata": {
  "kernelspec": {
   "display_name": "base",
   "language": "python",
   "name": "python3"
  },
  "language_info": {
   "codemirror_mode": {
    "name": "ipython",
    "version": 3
   },
   "file_extension": ".py",
   "mimetype": "text/x-python",
   "name": "python",
   "nbconvert_exporter": "python",
   "pygments_lexer": "ipython3",
   "version": "3.9.13"
  },
  "orig_nbformat": 4
 },
 "nbformat": 4,
 "nbformat_minor": 2
}
