{
 "cells": [
  {
   "cell_type": "code",
   "execution_count": 1,
   "metadata": {},
   "outputs": [],
   "source": [
    "import pandas as pd\n",
    "from sklearn.model_selection import train_test_split\n",
    "from sklearn.feature_extraction.text import CountVectorizer\n",
    "from sklearn.naive_bayes import MultinomialNB\n",
    "from sklearn.metrics import accuracy_score, classification_report\n",
    "import numpy as np\n",
    "import tensorflow as tf\n",
    "from sklearn.metrics import confusion_matrix\n",
    "from sklearn.model_selection import train_test_split, GridSearchCV\n",
    "from sklearn.metrics import classification_report\n",
    "from keras.models import Sequential\n",
    "from keras.layers import Dense, Embedding, GlobalAveragePooling1D\n",
    "from keras.preprocessing.text import Tokenizer\n",
    "from tensorflow.keras.preprocessing.sequence import pad_sequences\n",
    "from keras.wrappers.scikit_learn import KerasClassifier\n"
   ]
  },
  {
   "cell_type": "code",
   "execution_count": 2,
   "metadata": {},
   "outputs": [],
   "source": [
    "data = pd.read_csv(\"..\\dataset\\\\spam_ham_dataset.csv\")\n",
    "\n",
    "X = data['text']\n",
    "y = data['label_num']\n",
    "X_train, X_test, y_train, y_test = train_test_split(X, y, test_size=0.2, random_state=42)"
   ]
  },
  {
   "cell_type": "code",
   "execution_count": 3,
   "metadata": {},
   "outputs": [],
   "source": [
    "tokenizer = Tokenizer()\n",
    "tokenizer.fit_on_texts(X_train)\n",
    "X_train_seq = tokenizer.texts_to_sequences(X_train)\n",
    "X_test_seq = tokenizer.texts_to_sequences(X_test)\n",
    "\n",
    "max_seq_length = max([len(seq) for seq in X_train_seq])\n",
    "X_train_pad = pad_sequences(X_train_seq, maxlen=max_seq_length, padding='post')\n",
    "X_test_pad = pad_sequences(X_test_seq, maxlen=max_seq_length, padding='post')"
   ]
  },
  {
   "cell_type": "code",
   "execution_count": 4,
   "metadata": {},
   "outputs": [
    {
     "name": "stdout",
     "output_type": "stream",
     "text": [
      "Epoch 1/20\n",
      "259/259 [==============================] - 31s 115ms/step - loss: 0.6095 - accuracy: 0.7065 - val_loss: 0.5926 - val_accuracy: 0.7169\n",
      "Epoch 2/20\n",
      "259/259 [==============================] - 28s 108ms/step - loss: 0.5929 - accuracy: 0.7084 - val_loss: 0.5835 - val_accuracy: 0.7169\n",
      "Epoch 3/20\n",
      "259/259 [==============================] - 27s 104ms/step - loss: 0.5494 - accuracy: 0.7181 - val_loss: 0.4732 - val_accuracy: 0.7440\n",
      "Epoch 4/20\n",
      "259/259 [==============================] - 27s 104ms/step - loss: 0.3922 - accuracy: 0.8175 - val_loss: 0.3022 - val_accuracy: 0.8493\n",
      "Epoch 5/20\n",
      "259/259 [==============================] - 27s 103ms/step - loss: 0.2491 - accuracy: 0.9231 - val_loss: 0.2364 - val_accuracy: 0.9295\n",
      "Epoch 6/20\n",
      "259/259 [==============================] - 27s 104ms/step - loss: 0.1757 - accuracy: 0.9463 - val_loss: 0.1483 - val_accuracy: 0.9807\n",
      "Epoch 7/20\n",
      "259/259 [==============================] - 27s 103ms/step - loss: 0.1280 - accuracy: 0.9654 - val_loss: 0.1600 - val_accuracy: 0.9101\n",
      "Epoch 8/20\n",
      "259/259 [==============================] - 27s 104ms/step - loss: 0.1000 - accuracy: 0.9751 - val_loss: 0.1702 - val_accuracy: 0.9005\n",
      "Epoch 9/20\n",
      "259/259 [==============================] - 27s 104ms/step - loss: 0.0816 - accuracy: 0.9782 - val_loss: 0.0964 - val_accuracy: 0.9643\n",
      "Epoch 10/20\n",
      "259/259 [==============================] - 27s 104ms/step - loss: 0.0716 - accuracy: 0.9790 - val_loss: 0.0810 - val_accuracy: 0.9826\n",
      "Epoch 11/20\n",
      "259/259 [==============================] - 27s 104ms/step - loss: 0.0619 - accuracy: 0.9807 - val_loss: 0.0753 - val_accuracy: 0.9720\n",
      "Epoch 12/20\n",
      "259/259 [==============================] - 27s 104ms/step - loss: 0.0538 - accuracy: 0.9840 - val_loss: 0.0736 - val_accuracy: 0.9826\n",
      "Epoch 13/20\n",
      "259/259 [==============================] - 27s 104ms/step - loss: 0.0492 - accuracy: 0.9855 - val_loss: 0.0639 - val_accuracy: 0.9855\n",
      "Epoch 14/20\n",
      "259/259 [==============================] - 27s 104ms/step - loss: 0.0426 - accuracy: 0.9879 - val_loss: 0.0611 - val_accuracy: 0.9826\n",
      "Epoch 15/20\n",
      "259/259 [==============================] - 27s 103ms/step - loss: 0.0436 - accuracy: 0.9853 - val_loss: 0.1062 - val_accuracy: 0.9517\n",
      "Epoch 16/20\n",
      "259/259 [==============================] - 27s 103ms/step - loss: 0.0368 - accuracy: 0.9886 - val_loss: 0.0650 - val_accuracy: 0.9845\n",
      "Epoch 17/20\n",
      "259/259 [==============================] - 27s 103ms/step - loss: 0.0343 - accuracy: 0.9877 - val_loss: 0.0574 - val_accuracy: 0.9845\n",
      "Epoch 18/20\n",
      "259/259 [==============================] - 27s 103ms/step - loss: 0.0290 - accuracy: 0.9911 - val_loss: 0.0725 - val_accuracy: 0.9729\n",
      "Epoch 19/20\n",
      "259/259 [==============================] - 27s 105ms/step - loss: 0.0354 - accuracy: 0.9889 - val_loss: 0.1236 - val_accuracy: 0.9382\n",
      "Epoch 20/20\n",
      "259/259 [==============================] - 29s 112ms/step - loss: 0.0355 - accuracy: 0.9867 - val_loss: 0.0555 - val_accuracy: 0.9816\n"
     ]
    },
    {
     "data": {
      "text/plain": [
       "<keras.callbacks.History at 0x243cdb9eee0>"
      ]
     },
     "execution_count": 4,
     "metadata": {},
     "output_type": "execute_result"
    }
   ],
   "source": [
    "model = Sequential()\n",
    "model.add(Embedding(input_dim=len(tokenizer.word_index)+1, output_dim=64, input_length=max_seq_length))\n",
    "model.add(GlobalAveragePooling1D())\n",
    "model.add(Dense(128, activation='relu'))\n",
    "model.add(Dense(1, activation='sigmoid'))\n",
    "model.compile(loss='binary_crossentropy', optimizer='adam', metrics=['accuracy'])\n",
    "model.fit(X_train_pad, y_train, validation_data=(X_test_pad, y_test), epochs=20, batch_size=16)"
   ]
  },
  {
   "cell_type": "code",
   "execution_count": 5,
   "metadata": {},
   "outputs": [
    {
     "name": "stdout",
     "output_type": "stream",
     "text": [
      "33/33 [==============================] - 1s 33ms/step - loss: 0.0555 - accuracy: 0.9816\n"
     ]
    },
    {
     "data": {
      "text/plain": [
       "[0.0554976649582386, 0.981642484664917]"
      ]
     },
     "execution_count": 5,
     "metadata": {},
     "output_type": "execute_result"
    }
   ],
   "source": [
    "model.evaluate(X_test_pad, y_test)"
   ]
  },
  {
   "cell_type": "code",
   "execution_count": 6,
   "metadata": {},
   "outputs": [
    {
     "name": "stdout",
     "output_type": "stream",
     "text": [
      "33/33 [==============================] - 6s 31ms/step\n",
      "confusion matrix:\n",
      "[[734   8]\n",
      " [ 11 282]]\n",
      "True Positives (TP) : 282\n",
      "False Positives (TN) : 734\n"
     ]
    }
   ],
   "source": [
    "y_pred_prob = model.predict(X_test_pad)\n",
    "y_pred = np.round(y_pred_prob).astype(int)\n",
    "conf_matrix = confusion_matrix(y_test, y_pred)\n",
    "tn, fp, fn, tp = conf_matrix.ravel()\n",
    "\n",
    "print(\"confusion matrix:\")\n",
    "print(conf_matrix)\n",
    "print(\"True Positives (TP) :\", tp)\n",
    "print(\"False Positives (TN) :\", tn)"
   ]
  },
  {
   "cell_type": "code",
   "execution_count": 7,
   "metadata": {},
   "outputs": [],
   "source": [
    "model.save(\"..\\\\models\\\\mail.keras\")"
   ]
  },
  {
   "cell_type": "code",
   "execution_count": 9,
   "metadata": {},
   "outputs": [
    {
     "name": "stdout",
     "output_type": "stream",
     "text": [
      "33/33 [==============================] - 1s 28ms/step - loss: 0.0555 - accuracy: 0.9816\n"
     ]
    },
    {
     "data": {
      "text/plain": [
       "[0.0554976649582386, 0.981642484664917]"
      ]
     },
     "execution_count": 9,
     "metadata": {},
     "output_type": "execute_result"
    }
   ],
   "source": [
    "from keras.models import load_model\n",
    "model1 = load_model(\"..\\\\models\\\\mail.keras\")\n",
    "model1.evaluate(X_test_pad, y_test)"
   ]
  }
 ],
 "metadata": {
  "kernelspec": {
   "display_name": "base",
   "language": "python",
   "name": "python3"
  },
  "language_info": {
   "codemirror_mode": {
    "name": "ipython",
    "version": 3
   },
   "file_extension": ".py",
   "mimetype": "text/x-python",
   "name": "python",
   "nbconvert_exporter": "python",
   "pygments_lexer": "ipython3",
   "version": "3.9.13"
  },
  "orig_nbformat": 4
 },
 "nbformat": 4,
 "nbformat_minor": 2
}
